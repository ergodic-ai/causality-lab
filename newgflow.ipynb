{
 "cells": [
  {
   "cell_type": "code",
   "execution_count": 17,
   "metadata": {},
   "outputs": [],
   "source": [
    "import torch\n",
    "import torch.nn as nn\n",
    "from torch.distributions.categorical import Categorical\n",
    "import tqdm\n",
    "\n",
    "\n",
    "class FlowModel(nn.Module):\n",
    "    def __init__(self, num_hid):\n",
    "        super().__init__()\n",
    "        # We encoded the current state as binary vector, for each patch the associated\n",
    "        # dimension is either 0 or 1 depending on the absence or precense of that patch.\n",
    "        # Therefore the input dimension is 6 for the 6 patches.\n",
    "        self.mlp = nn.Sequential(\n",
    "            nn.Linear(9, num_hid),\n",
    "            nn.ReLU(),  # Changed to ReLU\n",
    "            nn.Linear(num_hid, num_hid),  # Added an extra hidden layer\n",
    "            nn.ReLU(),  # Activation for the new hidden layer\n",
    "            nn.Linear(num_hid, 9),\n",
    "        )\n",
    "\n",
    "    def forward(self, x):\n",
    "        # We take the exponential to get positive numbers, since flows must be positive,\n",
    "        # and multiply by (1 - x) to give 0 flow to actions we know we can't take\n",
    "        # (in this case, x[i] is 1 if a feature is already there, so we know we\n",
    "        # can't add it again).\n",
    "        F = self.mlp(x).exp() * (1 - x) * (1 + x)\n",
    "        return F\n",
    "\n",
    "\n",
    "class TBModel(nn.Module):\n",
    "    def __init__(self, num_hid):\n",
    "        super().__init__()\n",
    "        # The input dimension is 6 for the 6 patches.\n",
    "        self.mlp = nn.Sequential(\n",
    "            nn.Linear(9, num_hid),\n",
    "            nn.LeakyReLU(),\n",
    "            # We now output 12 numbers, 6 for P_F and 6 for P_B\n",
    "            nn.Linear(num_hid, 18),\n",
    "        )\n",
    "        # log Z is just a single number\n",
    "        self.logZ = nn.Parameter(torch.ones(1))\n",
    "\n",
    "    def forward(self, x):\n",
    "        logits = self.mlp(x)\n",
    "        # Slice the logits, and mask invalid actions (since we're predicting\n",
    "        # log-values), we use -100 since exp(-100) is tiny, but we don't want -inf)\n",
    "        P_F = logits[..., :9] * (1 - x) * (1 + x) + x * x * -100\n",
    "        P_B = logits[..., 9:] * x * x + (1 + x) * (1 - x) * -100\n",
    "        return P_F, P_B\n",
    "\n",
    "\n",
    "def encode_tictactoe_board(board):\n",
    "    \"\"\"\n",
    "    Encode a Tic-Tac-Toe board as a 1D torch tensor.\n",
    "\n",
    "    Args:\n",
    "        board (list of list of str): A 3x3 list representing the board, where each element is 'X', 'O', or ' '.\n",
    "\n",
    "    Returns:\n",
    "        torch.Tensor: A 1D tensor with values 1, -1, or 0.\n",
    "    \"\"\"\n",
    "    mapping = {\"X\": 1, \"O\": -1, \" \": 0}\n",
    "    tensor_board = torch.tensor(\n",
    "        [mapping[cell] for row in board for cell in row], dtype=torch.float\n",
    "    )\n",
    "    return tensor_board\n",
    "\n",
    "\n",
    "import torch\n",
    "\n",
    "\n",
    "def decode_tictactoe_tensor(tensor):\n",
    "    \"\"\"\n",
    "    Decode a 1D torch tensor back into a Tic-Tac-Toe board.\n",
    "\n",
    "    Args:\n",
    "        tensor (torch.Tensor): A 1D tensor with values 1, -1, or 0.\n",
    "\n",
    "    Returns:\n",
    "        list of list of str: A 3x3 list representing the board, where each element is 'X', 'O', or ' '.\n",
    "    \"\"\"\n",
    "    inverse_mapping = {1: \"X\", -1: \"O\", 0: \" \"}\n",
    "    board = [\n",
    "        [inverse_mapping[tensor[i * 3 + j].item()] for j in range(3)] for i in range(3)\n",
    "    ]\n",
    "    return board\n",
    "\n",
    "\n",
    "def check_winner(board, player):\n",
    "    \"\"\"\n",
    "    Check if the given player has won the game.\n",
    "\n",
    "    Args:\n",
    "        board (list of list of str): The Tic-Tac-Toe board.\n",
    "        player (str): The player's symbol ('X' or 'O').\n",
    "\n",
    "    Returns:\n",
    "        bool: True if the player has won, False otherwise.\n",
    "    \"\"\"\n",
    "    # Check rows, columns, and diagonals\n",
    "    for i in range(3):\n",
    "        if all(board[i][j] == player for j in range(3)) or all(\n",
    "            board[j][i] == player for j in range(3)\n",
    "        ):\n",
    "            return True\n",
    "    if all(board[i][i] == player for i in range(3)) or all(\n",
    "        board[i][2 - i] == player for i in range(3)\n",
    "    ):\n",
    "        return True\n",
    "    return False\n",
    "\n",
    "\n",
    "def is_board_full(board):\n",
    "    \"\"\"\n",
    "    Check if the board is full.\n",
    "\n",
    "    Args:\n",
    "        board (list of list of str): The Tic-Tac-Toe board.\n",
    "\n",
    "    Returns:\n",
    "        bool: True if the board is full, False otherwise.\n",
    "    \"\"\"\n",
    "    return all(cell != \" \" for row in board for cell in row)\n",
    "\n",
    "\n",
    "def reward_function(board, player):\n",
    "    \"\"\"\n",
    "    Determine the reward for the given player based on the state of the board.\n",
    "\n",
    "    Args:\n",
    "        board (list of list of str): The Tic-Tac-Toe board.\n",
    "        player (str): The player's symbol ('X' or 'O').\n",
    "\n",
    "    Returns:\n",
    "        int: The reward: 1 if the player won, -1 if lost, 0 if draw or the board is incomplete.\n",
    "    \"\"\"\n",
    "    opponent = \"O\" if player == \"X\" else \"X\"\n",
    "\n",
    "    if check_winner(board, player):\n",
    "        return 3\n",
    "    elif check_winner(board, opponent):\n",
    "        return 1\n",
    "    elif is_board_full(board):\n",
    "        return 2\n",
    "    else:\n",
    "        return 0"
   ]
  },
  {
   "cell_type": "code",
   "execution_count": 2,
   "metadata": {},
   "outputs": [],
   "source": [
    "def get_available_actions(encoded_board, player):\n",
    "    \"\"\"\n",
    "    Get the available actions for the player on the given board.\n",
    "\n",
    "    Args:\n",
    "        encoded_board (torch.Tensor): A 1D tensor representing the encoded board state.\n",
    "        player (str): The player's symbol ('X' or 'O').\n",
    "\n",
    "    Returns:\n",
    "        list of torch.Tensor: A list of 1D tensors representing the actions that the player can take.\n",
    "    \"\"\"\n",
    "    # Find the positions of zeros in the tensor\n",
    "    zero_positions = (encoded_board == 0).nonzero(as_tuple=True)[0]\n",
    "\n",
    "    num = 1 if player == \"X\" else -1\n",
    "    # Create the list of tensors\n",
    "    result = []\n",
    "    for pos in zero_positions:\n",
    "        new_tensor = torch.zeros_like(encoded_board)\n",
    "        new_tensor[pos] = num\n",
    "        result.append(new_tensor)\n",
    "\n",
    "    return result\n",
    "\n",
    "\n",
    "def enumerate_parents(encoded_board, player, allow_bad_moves=False):\n",
    "    \"\"\"\n",
    "    Enumerate all possible parent states of the given board state.\n",
    "\n",
    "    Args:\n",
    "        encoded_board (torch.Tensor): A 1D tensor representing the encoded board state.\n",
    "        player (str): The player's symbol ('X' or 'O').\n",
    "\n",
    "    Returns:\n",
    "        list of torch.Tensor: A list of 1D tensors representing the parent states.\n",
    "    \"\"\"\n",
    "    num = 1 if player == \"X\" else -1\n",
    "\n",
    "    if allow_bad_moves:\n",
    "        # a bad board can be either one where the player has a 2\n",
    "        # or that it has more than 1 more X than O\n",
    "        hasTwo = (encoded_board == 2).sum() > 0\n",
    "        if hasTwo:\n",
    "            # return the move that took us to this state\n",
    "            parent_board = encoded_board.clone()\n",
    "            parent_board[encoded_board == 2] = 1\n",
    "            pos = (encoded_board == 2).nonzero(as_tuple=True)[0]\n",
    "            return [parent_board], [pos]\n",
    "\n",
    "        if (encoded_board == 1).sum() > (encoded_board == -1).sum() + 1:\n",
    "            # for every square that has a 0, we can assume that it could have been a -1 that we added 1 to\n",
    "            # so we can return all of those\n",
    "            parent_boards = []\n",
    "            parent_actions = []\n",
    "            zero_positions = (encoded_board == 0).nonzero(as_tuple=True)[0]\n",
    "            for pos in zero_positions:\n",
    "                parent_board = encoded_board.clone()\n",
    "                parent_board[pos] = -1\n",
    "                parent_boards.append(parent_board)\n",
    "                parent_actions.append(pos)\n",
    "\n",
    "            return parent_boards, parent_actions\n",
    "\n",
    "    # Find the positions of the player's moves in the tensor\n",
    "    player_positions = (encoded_board == num).nonzero(as_tuple=True)[0]\n",
    "\n",
    "    # Create the list of tensors\n",
    "    result = []\n",
    "    actions = []\n",
    "    for pos in player_positions:\n",
    "        new_tensor = encoded_board.clone()\n",
    "        new_tensor[pos] = 0\n",
    "        # action_taken = torch.zeros_like(encoded_board)\n",
    "        # action_taken[pos] = num\n",
    "        action_taken = pos\n",
    "        result.append(new_tensor)\n",
    "        actions.append(action_taken)\n",
    "\n",
    "    return result, actions\n",
    "\n",
    "\n",
    "def is_valid_action(encoded_board, action):\n",
    "    \"\"\"\n",
    "    Check if the given action is valid on the board.\n",
    "\n",
    "    Args:\n",
    "        encoded_board (torch.Tensor): A 1D tensor representing the encoded board state.\n",
    "        action (torch.Tensor): A 1D tensor representing the action to take.\n",
    "\n",
    "    Returns:\n",
    "        bool: True if the action is valid, False otherwise.\n",
    "    \"\"\"\n",
    "    return encoded_board[action == 1] == 0"
   ]
  },
  {
   "cell_type": "code",
   "execution_count": 3,
   "metadata": {},
   "outputs": [
    {
     "data": {
      "text/plain": [
       "([tensor([0, 0, 0, 0, 0, 0, 0, 0, 0])], [tensor(0)])"
      ]
     },
     "execution_count": 3,
     "metadata": {},
     "output_type": "execute_result"
    }
   ],
   "source": [
    "enumerate_parents(torch.tensor([1, 0, 0, 0, 0, 0, 0, 0, 0]), \"X\", allow_bad_moves=True)"
   ]
  },
  {
   "cell_type": "code",
   "execution_count": 43,
   "metadata": {},
   "outputs": [
    {
     "name": "stdout",
     "output_type": "stream",
     "text": [
      "Player O has won\n"
     ]
    }
   ],
   "source": [
    "import random\n",
    "\n",
    "initial_board = [[\" \", \" \", \" \"], [\" \", \" \", \" \"], [\" \", \" \", \" \"]]\n",
    "encoded_initial_board = encode_tictactoe_board(initial_board)\n",
    "board = encoded_initial_board\n",
    "play = True\n",
    "\n",
    "while play:\n",
    "    player = \"X\"\n",
    "    available_actions = get_available_actions(board, player)\n",
    "    if len(available_actions) == 0:\n",
    "        print(\"No available actions. Game is a draw.\")\n",
    "        break\n",
    "\n",
    "    action = random.choice(available_actions)\n",
    "    board = board + action\n",
    "\n",
    "    hasWon = check_winner(decode_tictactoe_tensor(board), player)\n",
    "\n",
    "    if hasWon:\n",
    "        print(\"Player X has won\")\n",
    "        break\n",
    "\n",
    "    player = \"O\"\n",
    "    available_actions = get_available_actions(board, player)\n",
    "    if len(available_actions) == 0:\n",
    "        print(\"No available actions. Game is a draw.\")\n",
    "        break\n",
    "\n",
    "    action = random.choice(available_actions)\n",
    "    board = board + action\n",
    "\n",
    "    hasWon = check_winner(decode_tictactoe_tensor(board), player)\n",
    "\n",
    "    if hasWon:\n",
    "        print(\"Player O has won\")\n",
    "        break"
   ]
  },
  {
   "cell_type": "code",
   "execution_count": 44,
   "metadata": {},
   "outputs": [
    {
     "data": {
      "text/plain": [
       "[['X', ' ', 'O'], ['X', 'O', ' '], ['O', 'X', ' ']]"
      ]
     },
     "execution_count": 44,
     "metadata": {},
     "output_type": "execute_result"
    }
   ],
   "source": [
    "decode_tictactoe_tensor(board)"
   ]
  },
  {
   "cell_type": "code",
   "execution_count": 47,
   "metadata": {},
   "outputs": [],
   "source": [
    "# Instantiate model and optimizer\n",
    "F_sa = FlowModel(64)\n",
    "opt = torch.optim.Adam(F_sa.parameters(), 1e-3)\n",
    "# Let's keep track of the losses and the faces we sample\n",
    "losses = []\n",
    "sampled_faces = []\n",
    "\n",
    "minibatch_loss = 0"
   ]
  },
  {
   "cell_type": "code",
   "execution_count": 67,
   "metadata": {},
   "outputs": [
    {
     "name": "stderr",
     "output_type": "stream",
     "text": [
      "  0%|        | 0/100000 [00:00<?, ?it/s]\n"
     ]
    },
    {
     "ename": "RuntimeError",
     "evalue": "Trying to backward through the graph a second time (or directly access saved tensors after they have already been freed). Saved intermediate values of the graph are freed when you call .backward() or autograd.grad(). Specify retain_graph=True if you need to backward through the graph a second time or if you need to access saved tensors after calling backward.",
     "output_type": "error",
     "traceback": [
      "\u001b[0;31m---------------------------------------------------------------------------\u001b[0m",
      "\u001b[0;31mRuntimeError\u001b[0m                              Traceback (most recent call last)",
      "Cell \u001b[0;32mIn[67], line 109\u001b[0m\n\u001b[1;32m    107\u001b[0m \u001b[38;5;28;01mif\u001b[39;00m episode \u001b[38;5;241m%\u001b[39m update_freq \u001b[38;5;241m==\u001b[39m \u001b[38;5;241m0\u001b[39m:\n\u001b[1;32m    108\u001b[0m     losses\u001b[38;5;241m.\u001b[39mappend(minibatch_loss\u001b[38;5;241m.\u001b[39mitem())\n\u001b[0;32m--> 109\u001b[0m     \u001b[43mminibatch_loss\u001b[49m\u001b[38;5;241;43m.\u001b[39;49m\u001b[43mbackward\u001b[49m\u001b[43m(\u001b[49m\u001b[43m)\u001b[49m\n\u001b[1;32m    110\u001b[0m     opt\u001b[38;5;241m.\u001b[39mstep()\n\u001b[1;32m    111\u001b[0m     opt\u001b[38;5;241m.\u001b[39mzero_grad()\n",
      "File \u001b[0;32m~/ergodic/causality-lab/.venv/lib/python3.11/site-packages/torch/_tensor.py:522\u001b[0m, in \u001b[0;36mTensor.backward\u001b[0;34m(self, gradient, retain_graph, create_graph, inputs)\u001b[0m\n\u001b[1;32m    512\u001b[0m \u001b[38;5;28;01mif\u001b[39;00m has_torch_function_unary(\u001b[38;5;28mself\u001b[39m):\n\u001b[1;32m    513\u001b[0m     \u001b[38;5;28;01mreturn\u001b[39;00m handle_torch_function(\n\u001b[1;32m    514\u001b[0m         Tensor\u001b[38;5;241m.\u001b[39mbackward,\n\u001b[1;32m    515\u001b[0m         (\u001b[38;5;28mself\u001b[39m,),\n\u001b[0;32m   (...)\u001b[0m\n\u001b[1;32m    520\u001b[0m         inputs\u001b[38;5;241m=\u001b[39minputs,\n\u001b[1;32m    521\u001b[0m     )\n\u001b[0;32m--> 522\u001b[0m \u001b[43mtorch\u001b[49m\u001b[38;5;241;43m.\u001b[39;49m\u001b[43mautograd\u001b[49m\u001b[38;5;241;43m.\u001b[39;49m\u001b[43mbackward\u001b[49m\u001b[43m(\u001b[49m\n\u001b[1;32m    523\u001b[0m \u001b[43m    \u001b[49m\u001b[38;5;28;43mself\u001b[39;49m\u001b[43m,\u001b[49m\u001b[43m \u001b[49m\u001b[43mgradient\u001b[49m\u001b[43m,\u001b[49m\u001b[43m \u001b[49m\u001b[43mretain_graph\u001b[49m\u001b[43m,\u001b[49m\u001b[43m \u001b[49m\u001b[43mcreate_graph\u001b[49m\u001b[43m,\u001b[49m\u001b[43m \u001b[49m\u001b[43minputs\u001b[49m\u001b[38;5;241;43m=\u001b[39;49m\u001b[43minputs\u001b[49m\n\u001b[1;32m    524\u001b[0m \u001b[43m\u001b[49m\u001b[43m)\u001b[49m\n",
      "File \u001b[0;32m~/ergodic/causality-lab/.venv/lib/python3.11/site-packages/torch/autograd/__init__.py:266\u001b[0m, in \u001b[0;36mbackward\u001b[0;34m(tensors, grad_tensors, retain_graph, create_graph, grad_variables, inputs)\u001b[0m\n\u001b[1;32m    261\u001b[0m     retain_graph \u001b[38;5;241m=\u001b[39m create_graph\n\u001b[1;32m    263\u001b[0m \u001b[38;5;66;03m# The reason we repeat the same comment below is that\u001b[39;00m\n\u001b[1;32m    264\u001b[0m \u001b[38;5;66;03m# some Python versions print out the first line of a multi-line function\u001b[39;00m\n\u001b[1;32m    265\u001b[0m \u001b[38;5;66;03m# calls in the traceback and some print out the last line\u001b[39;00m\n\u001b[0;32m--> 266\u001b[0m \u001b[43mVariable\u001b[49m\u001b[38;5;241;43m.\u001b[39;49m\u001b[43m_execution_engine\u001b[49m\u001b[38;5;241;43m.\u001b[39;49m\u001b[43mrun_backward\u001b[49m\u001b[43m(\u001b[49m\u001b[43m  \u001b[49m\u001b[38;5;66;43;03m# Calls into the C++ engine to run the backward pass\u001b[39;49;00m\n\u001b[1;32m    267\u001b[0m \u001b[43m    \u001b[49m\u001b[43mtensors\u001b[49m\u001b[43m,\u001b[49m\n\u001b[1;32m    268\u001b[0m \u001b[43m    \u001b[49m\u001b[43mgrad_tensors_\u001b[49m\u001b[43m,\u001b[49m\n\u001b[1;32m    269\u001b[0m \u001b[43m    \u001b[49m\u001b[43mretain_graph\u001b[49m\u001b[43m,\u001b[49m\n\u001b[1;32m    270\u001b[0m \u001b[43m    \u001b[49m\u001b[43mcreate_graph\u001b[49m\u001b[43m,\u001b[49m\n\u001b[1;32m    271\u001b[0m \u001b[43m    \u001b[49m\u001b[43minputs\u001b[49m\u001b[43m,\u001b[49m\n\u001b[1;32m    272\u001b[0m \u001b[43m    \u001b[49m\u001b[43mallow_unreachable\u001b[49m\u001b[38;5;241;43m=\u001b[39;49m\u001b[38;5;28;43;01mTrue\u001b[39;49;00m\u001b[43m,\u001b[49m\n\u001b[1;32m    273\u001b[0m \u001b[43m    \u001b[49m\u001b[43maccumulate_grad\u001b[49m\u001b[38;5;241;43m=\u001b[39;49m\u001b[38;5;28;43;01mTrue\u001b[39;49;00m\u001b[43m,\u001b[49m\n\u001b[1;32m    274\u001b[0m \u001b[43m\u001b[49m\u001b[43m)\u001b[49m\n",
      "\u001b[0;31mRuntimeError\u001b[0m: Trying to backward through the graph a second time (or directly access saved tensors after they have already been freed). Saved intermediate values of the graph are freed when you call .backward() or autograd.grad(). Specify retain_graph=True if you need to backward through the graph a second time or if you need to access saved tensors after calling backward."
     ]
    }
   ],
   "source": [
    "# To not complicate the code, I'll just accumulate losses here and take a\n",
    "# gradient step every `update_freq` episode.\n",
    "logs = []\n",
    "update_freq = 4\n",
    "player = \"X\"\n",
    "for episode in tqdm.tqdm(range(100_000), ncols=40):\n",
    "    # Each episode starts with an empty board\n",
    "    initial_board = [[\" \", \" \", \" \"], [\" \", \" \", \" \"], [\" \", \" \", \" \"]]\n",
    "    encoded_initial_board = encode_tictactoe_board(initial_board)\n",
    "    board = encoded_initial_board\n",
    "    # Predict F(s, a)\n",
    "    edge_flow_prediction = F_sa(board)\n",
    "    play = True\n",
    "\n",
    "    log = []\n",
    "    while play:\n",
    "        # The policy is just normalizing, and gives us the probability of each action\n",
    "\n",
    "        policy = edge_flow_prediction / edge_flow_prediction.sum()\n",
    "        # Sample the action\n",
    "        action = Categorical(probs=policy).sample()\n",
    "        action = torch.eye(9)[action]\n",
    "        # \"Go\" to the next state\n",
    "        new_board = board + action\n",
    "        log.append((board, action, new_board, \"X\"))\n",
    "\n",
    "        # Check if action is valid\n",
    "        if not is_valid_action(board, action):\n",
    "            # If the action is invalid, we set the reward to -1 and break\n",
    "            reward = 0\n",
    "            edge_flow_prediction = torch.zeros(9)\n",
    "            parent_states, parent_actions = enumerate_parents(new_board, \"X\", True)\n",
    "            # And compute the edge flows F(s, a) of each parent\n",
    "            px = torch.stack([p for p in parent_states])\n",
    "            pa = torch.tensor(parent_actions).long()\n",
    "            parent_edge_flow_preds = F_sa(px)[torch.arange(len(parent_states)), pa]\n",
    "\n",
    "            flow_mismatch = (\n",
    "                parent_edge_flow_preds.sum() - edge_flow_prediction.sum() - reward\n",
    "            ).pow(2)\n",
    "            play = False\n",
    "            log.append(\"invalid move\")\n",
    "\n",
    "        else:\n",
    "            # Now we want to compute the loss, we'll first enumerate the parents\n",
    "            parent_states, parent_actions = enumerate_parents(new_board, \"X\")\n",
    "            # And compute the edge flows F(s, a) of each parent\n",
    "            px = torch.stack([p for p in parent_states])\n",
    "            pa = torch.tensor(parent_actions).long()\n",
    "            parent_edge_flow_preds = F_sa(px)[torch.arange(len(parent_states)), pa]\n",
    "            # Now we need to compute the reward and F(s, a) of the current state,\n",
    "            # which is currently `new_state`\n",
    "            reward = 0\n",
    "            hasWon = check_winner(decode_tictactoe_tensor(new_board), \"X\")\n",
    "            if hasWon:\n",
    "                reward = 2\n",
    "                edge_flow_prediction = torch.zeros(9)\n",
    "                play = False\n",
    "                log.append(\"X won\")\n",
    "\n",
    "            elif is_board_full(decode_tictactoe_tensor(new_board)):\n",
    "                reward = 1\n",
    "                edge_flow_prediction = torch.zeros(9)\n",
    "                play = False\n",
    "                log.append(\"draw\")\n",
    "\n",
    "            else:\n",
    "                # now the opponent moves\n",
    "                possibleMoves = get_available_actions(new_board, \"O\")\n",
    "                opponentMove = random.choice(possibleMoves)\n",
    "                new_board = new_board + opponentMove\n",
    "\n",
    "                log.append((new_board, opponentMove, new_board, \"O\"))\n",
    "\n",
    "                hasWon = check_winner(decode_tictactoe_tensor(new_board), \"O\")\n",
    "                if hasWon:\n",
    "                    reward = 0\n",
    "                    edge_flow_prediction = torch.zeros(9)\n",
    "                    play = False\n",
    "                    log.append(\"O won\")\n",
    "\n",
    "                # If the board is full, the game is a draw\n",
    "                if is_board_full(decode_tictactoe_tensor(new_board)):\n",
    "                    reward = 1\n",
    "                    edge_flow_prediction = torch.zeros(9)\n",
    "                    play = False\n",
    "                    log.append(\"draw\")\n",
    "\n",
    "            if play:\n",
    "                # Now we need to compute the edge flows F(s, a) of the current state,\n",
    "                # which is currently `new_state`\n",
    "                edge_flow_prediction = F_sa(new_board)\n",
    "\n",
    "            # The loss as per the equation above\n",
    "            flow_mismatch = (\n",
    "                parent_edge_flow_preds.sum() - edge_flow_prediction.sum() - reward\n",
    "            ).pow(2)\n",
    "\n",
    "        minibatch_loss += flow_mismatch  # Accumulate\n",
    "        # Continue iterating\n",
    "        board = new_board\n",
    "\n",
    "    # We're done with the episode, add the face to the list, and if we are at an\n",
    "    # update episode, take a gradient step.\n",
    "    # logs.append(log)\n",
    "    sampled_faces.append(board)\n",
    "    if episode % update_freq == 0:\n",
    "        losses.append(minibatch_loss.item())\n",
    "        minibatch_loss.backward()\n",
    "        opt.step()\n",
    "        opt.zero_grad()\n",
    "        minibatch_loss = 0"
   ]
  },
  {
   "cell_type": "code",
   "execution_count": null,
   "metadata": {},
   "outputs": [],
   "source": []
  },
  {
   "cell_type": "code",
   "execution_count": 72,
   "metadata": {},
   "outputs": [],
   "source": [
    "def find_best_move(moves, player=\"O\"):\n",
    "    best_move = None\n",
    "    best_reward = -1\n",
    "    for move in moves:\n",
    "        new_board = board + move\n",
    "        reward = reward_function(decode_tictactoe_tensor(new_board), player)\n",
    "        if reward > best_reward:\n",
    "            best_reward = reward\n",
    "            best_move = move\n",
    "    return best_move"
   ]
  },
  {
   "cell_type": "code",
   "execution_count": 79,
   "metadata": {},
   "outputs": [],
   "source": [
    "board = torch.tensor([1.0, 1.0, 0.0, 0.0, -1.0, 1.0, -1.0, 0.0, 0.0])"
   ]
  },
  {
   "cell_type": "code",
   "execution_count": 81,
   "metadata": {},
   "outputs": [
    {
     "data": {
      "text/plain": [
       "tensor([ 0.,  0.,  0., -1.,  0.,  0.,  0.,  0.,  0.])"
      ]
     },
     "execution_count": 81,
     "metadata": {},
     "output_type": "execute_result"
    }
   ],
   "source": [
    "possibleMoves = get_available_actions(new_board, \"O\")\n",
    "find_best_move(possibleMoves, \"O\")"
   ]
  },
  {
   "cell_type": "code",
   "execution_count": 99,
   "metadata": {},
   "outputs": [
    {
     "name": "stderr",
     "output_type": "stream",
     "text": [
      " 15%|▏| 76133/500000 [09:30<52:54, 133.5\n"
     ]
    },
    {
     "ename": "KeyboardInterrupt",
     "evalue": "",
     "output_type": "error",
     "traceback": [
      "\u001b[0;31m---------------------------------------------------------------------------\u001b[0m",
      "\u001b[0;31mKeyboardInterrupt\u001b[0m                         Traceback (most recent call last)",
      "Cell \u001b[0;32mIn[99], line 83\u001b[0m\n\u001b[1;32m     78\u001b[0m     board \u001b[38;5;241m=\u001b[39m new_board\n\u001b[1;32m     80\u001b[0m \u001b[38;5;66;03m# We're done with the trajectory, let's compute its loss. Since the reward can\u001b[39;00m\n\u001b[1;32m     81\u001b[0m \u001b[38;5;66;03m# sometimes be zero, instead of log(0) we'll clip the log-reward to -20.\u001b[39;00m\n\u001b[1;32m     82\u001b[0m loss \u001b[38;5;241m=\u001b[39m (\n\u001b[0;32m---> 83\u001b[0m     \u001b[43mmodel\u001b[49m\u001b[38;5;241;43m.\u001b[39;49m\u001b[43mlogZ\u001b[49m \u001b[38;5;241m+\u001b[39m total_P_F \u001b[38;5;241m-\u001b[39m torch\u001b[38;5;241m.\u001b[39mlog(torch\u001b[38;5;241m.\u001b[39mtensor(reward))\u001b[38;5;241m.\u001b[39mclip(\u001b[38;5;241m-\u001b[39m\u001b[38;5;241m20\u001b[39m) \u001b[38;5;241m-\u001b[39m total_P_B\n\u001b[1;32m     84\u001b[0m )\u001b[38;5;241m.\u001b[39mpow(\u001b[38;5;241m2\u001b[39m)\n\u001b[1;32m     85\u001b[0m minibatch_loss \u001b[38;5;241m+\u001b[39m\u001b[38;5;241m=\u001b[39m loss\n\u001b[1;32m     87\u001b[0m \u001b[38;5;66;03m# Add the face to the list, and if we are at an\u001b[39;00m\n\u001b[1;32m     88\u001b[0m \u001b[38;5;66;03m# update episode, take a gradient step.\u001b[39;00m\n",
      "File \u001b[0;32m~/ergodic/causality-lab/.venv/lib/python3.11/site-packages/torch/nn/modules/module.py:1675\u001b[0m, in \u001b[0;36mModule.__getattr__\u001b[0;34m(self, name)\u001b[0m\n\u001b[1;32m   1666\u001b[0m         \u001b[38;5;28mself\u001b[39m\u001b[38;5;241m.\u001b[39m_backward_pre_hooks \u001b[38;5;241m=\u001b[39m OrderedDict()\n\u001b[1;32m   1668\u001b[0m \u001b[38;5;66;03m# On the return type:\u001b[39;00m\n\u001b[1;32m   1669\u001b[0m \u001b[38;5;66;03m# We choose to return `Any` in the `__getattr__` type signature instead of a more strict `Union[Tensor, Module]`.\u001b[39;00m\n\u001b[1;32m   1670\u001b[0m \u001b[38;5;66;03m# This is done for better interop with various type checkers for the end users.\u001b[39;00m\n\u001b[0;32m   (...)\u001b[0m\n\u001b[1;32m   1673\u001b[0m \u001b[38;5;66;03m# See full discussion on the problems with returning `Union` here\u001b[39;00m\n\u001b[1;32m   1674\u001b[0m \u001b[38;5;66;03m# https://github.com/microsoft/pyright/issues/4213\u001b[39;00m\n\u001b[0;32m-> 1675\u001b[0m \u001b[38;5;28;01mdef\u001b[39;00m \u001b[38;5;21m__getattr__\u001b[39m(\u001b[38;5;28mself\u001b[39m, name: \u001b[38;5;28mstr\u001b[39m) \u001b[38;5;241m-\u001b[39m\u001b[38;5;241m>\u001b[39m Any:\n\u001b[1;32m   1676\u001b[0m     \u001b[38;5;28;01mif\u001b[39;00m \u001b[38;5;124m'\u001b[39m\u001b[38;5;124m_parameters\u001b[39m\u001b[38;5;124m'\u001b[39m \u001b[38;5;129;01min\u001b[39;00m \u001b[38;5;28mself\u001b[39m\u001b[38;5;241m.\u001b[39m\u001b[38;5;18m__dict__\u001b[39m:\n\u001b[1;32m   1677\u001b[0m         _parameters \u001b[38;5;241m=\u001b[39m \u001b[38;5;28mself\u001b[39m\u001b[38;5;241m.\u001b[39m\u001b[38;5;18m__dict__\u001b[39m[\u001b[38;5;124m'\u001b[39m\u001b[38;5;124m_parameters\u001b[39m\u001b[38;5;124m'\u001b[39m]\n",
      "\u001b[0;31mKeyboardInterrupt\u001b[0m: "
     ]
    }
   ],
   "source": [
    "import random\n",
    "import numpy\n",
    "\n",
    "# Instantiate model and optimizer\n",
    "model = TBModel(512)\n",
    "opt = torch.optim.Adam(model.parameters(), 3e-4)\n",
    "\n",
    "# Let's keep track of the losses and the faces we sample\n",
    "tb_losses = []\n",
    "tb_sampled_faces = []\n",
    "# To not complicate the code, I'll just accumulate losses here and take a\n",
    "# gradient step every `update_freq` episode.\n",
    "minibatch_loss = 0\n",
    "update_freq = 2\n",
    "\n",
    "logZs = []\n",
    "for episode in tqdm.tqdm(range(500_000), ncols=40):\n",
    "    # Each episode starts with an \"empty state\"\n",
    "    state = []\n",
    "    # Predict P_F, P_B\n",
    "    initial_board = [[\" \", \" \", \" \"], [\" \", \" \", \" \"], [\" \", \" \", \" \"]]\n",
    "    encoded_initial_board = encode_tictactoe_board(initial_board)\n",
    "    board = encoded_initial_board\n",
    "    # Predict F(s, a)\n",
    "    P_F_s, P_B_s = model(board)\n",
    "    play = True\n",
    "\n",
    "    total_P_F = 0\n",
    "    total_P_B = 0\n",
    "    n = 10\n",
    "    while play and n > 0:\n",
    "        n -= 1\n",
    "        # Here P_F is logits, so we want the Categorical to compute the softmax for us\n",
    "        cat = Categorical(logits=P_F_s)\n",
    "        action = cat.sample()\n",
    "\n",
    "        new_board = board + torch.eye(9)[action]\n",
    "        total_P_F += cat.log_prob(action)\n",
    "\n",
    "        hasWon = check_winner(decode_tictactoe_tensor(new_board), \"X\")\n",
    "        if hasWon:\n",
    "            reward = numpy.exp(10)\n",
    "            play = False\n",
    "\n",
    "        elif is_board_full(decode_tictactoe_tensor(new_board)):\n",
    "            reward = numpy.exp(0)\n",
    "            play = False\n",
    "\n",
    "        else:\n",
    "            # now the opponent moves\n",
    "            possibleMoves = get_available_actions(new_board, \"O\")\n",
    "            opponentMove = random.choice(possibleMoves)\n",
    "            canWin = False\n",
    "            for move in possibleMoves:\n",
    "                if check_winner(decode_tictactoe_tensor(new_board + move), \"O\"):\n",
    "                    canWin = True\n",
    "                    opponentMove = move\n",
    "\n",
    "            new_board = new_board + opponentMove\n",
    "\n",
    "            hasWon = check_winner(decode_tictactoe_tensor(new_board), \"O\")\n",
    "            if hasWon:\n",
    "                reward = numpy.exp(-10)\n",
    "                play = False\n",
    "\n",
    "            elif is_board_full(decode_tictactoe_tensor(new_board)):\n",
    "                reward = numpy.exp(0)\n",
    "                play = False\n",
    "\n",
    "        P_F_s, P_B_s = model(new_board)\n",
    "        # Here we accumulate P_B, going backwards from `new_state`. We're also just\n",
    "        # going to use opposite semantics for the backward policy. I.e., for P_F action\n",
    "        # `i` just added the face part `i`, for P_B we'll assume action `i` removes\n",
    "        # face part `i`, this way we can just keep the same indices.\n",
    "        total_P_B += Categorical(logits=P_B_s).log_prob(action)\n",
    "\n",
    "        # Continue iterating\n",
    "        board = new_board\n",
    "\n",
    "    # We're done with the trajectory, let's compute its loss. Since the reward can\n",
    "    # sometimes be zero, instead of log(0) we'll clip the log-reward to -20.\n",
    "    loss = (\n",
    "        model.logZ + total_P_F - torch.log(torch.tensor(reward)).clip(-20) - total_P_B\n",
    "    ).pow(2)\n",
    "    minibatch_loss += loss\n",
    "\n",
    "    # Add the face to the list, and if we are at an\n",
    "    # update episode, take a gradient step.\n",
    "    tb_sampled_faces.append(board)\n",
    "    if episode % update_freq == 0:\n",
    "        tb_losses.append(minibatch_loss.item())\n",
    "        minibatch_loss.backward()\n",
    "        opt.step()\n",
    "        opt.zero_grad()\n",
    "        minibatch_loss = 0\n",
    "        logZs.append(model.logZ.item())"
   ]
  },
  {
   "cell_type": "code",
   "execution_count": 100,
   "metadata": {},
   "outputs": [
    {
     "data": {
      "text/plain": [
       "(tensor([   1.9160, -100.0000, -100.0000,   -2.1100, -100.0000, -100.0000,\n",
       "         -100.0000, -100.0000,    1.2734], grad_fn=<AddBackward0>),\n",
       " tensor([-100.0000,   -1.5482,   -1.8644, -100.0000,   -3.3794,    0.4501,\n",
       "            1.2614,    1.6333, -100.0000], grad_fn=<AddBackward0>))"
      ]
     },
     "execution_count": 100,
     "metadata": {},
     "output_type": "execute_result"
    }
   ],
   "source": [
    "model(torch.tensor([0.0, -1.0, -1.0, 0.0, 1.0, -1.0, 1.0, 1.0, 0.0]))"
   ]
  },
  {
   "cell_type": "code",
   "execution_count": 101,
   "metadata": {},
   "outputs": [
    {
     "data": {
      "text/plain": [
       "Text(0, 0.5, 'estimated Z')"
      ]
     },
     "execution_count": 101,
     "metadata": {},
     "output_type": "execute_result"
    },
    {
     "data": {
      "image/png": "[encoded data removed]",
      "text/plain": [
       "<Figure size 1000x600 with 2 Axes>"
      ]
     },
     "metadata": {},
     "output_type": "display_data"
    }
   ],
   "source": [
    "import matplotlib.pyplot as pp\n",
    "import numpy as np\n",
    "\n",
    "f, ax = pp.subplots(2, 1, figsize=(10, 6))\n",
    "pp.sca(ax[0])\n",
    "pp.plot(tb_losses)\n",
    "pp.yscale(\"log\")\n",
    "pp.ylabel(\"loss\")\n",
    "pp.sca(ax[1])\n",
    "pp.plot(np.exp(logZs))\n",
    "pp.ylabel(\"estimated Z\")"
   ]
  },
  {
   "cell_type": "code",
   "execution_count": 103,
   "metadata": {},
   "outputs": [
    {
     "data": {
      "text/plain": [
       "<Axes: >"
      ]
     },
     "execution_count": 103,
     "metadata": {},
     "output_type": "execute_result"
    },
    {
     "data": {
      "image/png": "[encoded data removed]",
      "text/plain": [
       "<Figure size 640x480 with 1 Axes>"
      ]
     },
     "metadata": {},
     "output_type": "display_data"
    }
   ],
   "source": [
    "import pandas\n",
    "\n",
    "pandas.DataFrame({\"losses\": tb_losses}).rolling(1000).mean().plot()"
   ]
  },
  {
   "cell_type": "code",
   "execution_count": 94,
   "metadata": {},
   "outputs": [
    {
     "ename": "NameError",
     "evalue": "name 'sampled_faces' is not defined",
     "output_type": "error",
     "traceback": [
      "\u001b[0;31m---------------------------------------------------------------------------\u001b[0m",
      "\u001b[0;31mNameError\u001b[0m                                 Traceback (most recent call last)",
      "Cell \u001b[0;32mIn[94], line 1\u001b[0m\n\u001b[0;32m----> 1\u001b[0m [decode_tictactoe_tensor(x) \u001b[38;5;28;01mfor\u001b[39;00m x \u001b[38;5;129;01min\u001b[39;00m \u001b[43msampled_faces\u001b[49m[\u001b[38;5;241m-\u001b[39m\u001b[38;5;241m120\u001b[39m:]][\u001b[38;5;241m14\u001b[39m]\n",
      "\u001b[0;31mNameError\u001b[0m: name 'sampled_faces' is not defined"
     ]
    }
   ],
   "source": [
    "[decode_tictactoe_tensor(x) for x in sampled_faces[-120:]][14]"
   ]
  },
  {
   "cell_type": "code",
   "execution_count": 104,
   "metadata": {},
   "outputs": [
    {
     "data": {
      "text/plain": [
       "[array([0.06647062, 0.04136873, 0.0241965 ], dtype=float32),\n",
       " array([0.01881094, 0.8124925 , 0.00642829], dtype=float32),\n",
       " array([0.02091741, 0.00533579, 0.00397915], dtype=float32)]"
      ]
     },
     "execution_count": 104,
     "metadata": {},
     "output_type": "execute_result"
    }
   ],
   "source": [
    " encoded_initial_board = encode_tictactoe_board(initial_board)\n",
    "[ x.detach().numpy() for x in torch.split(tensor= torch.exp(model(encoded_initial_board)[0])/torch.exp(model(encoded_initial_board)[0]).sum(), split_size_or_sections=3) ]"
   ]
  },
  {
   "cell_type": "code",
   "execution_count": 106,
   "metadata": {},
   "outputs": [],
   "source": [
    "def get_new_board(board):\n",
    "    encoded_board = encode_tictactoe_board(board)\n",
    "    P_F_s, P_B_s = model(encoded_board)\n",
    "    print(P_F_s)\n",
    "    cat = Categorical(logits=P_F_s)\n",
    "    action = cat.sample()\n",
    "    new_board = encoded_board + torch.eye(9)[action]\n",
    "    return decode_tictactoe_tensor(new_board)"
   ]
  },
  {
   "cell_type": "code",
   "execution_count": 108,
   "metadata": {},
   "outputs": [
    {
     "name": "stdout",
     "output_type": "stream",
     "text": [
      "tensor([-100.0000,   -2.0994,    0.3046, -100.0000,    1.4106,   -1.9477,\n",
      "        -100.0000, -100.0000,   -1.0191], grad_fn=<AddBackward0>)\n"
     ]
    },
    {
     "data": {
      "text/plain": [
       "[['X', ' ', ' '], ['X', 'X', ' '], ['O', 'O', ' ']]"
      ]
     },
     "execution_count": 108,
     "metadata": {},
     "output_type": "execute_result"
    }
   ],
   "source": [
    "board = [[\"X\", \" \", \" \"], [\"X\", \" \", \" \"], [\"O\", \"O\", \" \"]]\n",
    "get_new_board(board)"
   ]
  },
  {
   "cell_type": "code",
   "execution_count": null,
   "metadata": {},
   "outputs": [],
   "source": []
  },
  {
   "cell_type": "code",
   "execution_count": null,
   "metadata": {},
   "outputs": [],
   "source": []
  }
 ],
 "metadata": {
  "kernelspec": {
   "display_name": ".venv",
   "language": "python",
   "name": "python3"
  },
  "language_info": {
   "codemirror_mode": {
    "name": "ipython",
    "version": 3
   },
   "file_extension": ".py",
   "mimetype": "text/x-python",
   "name": "python",
   "nbconvert_exporter": "python",
   "pygments_lexer": "ipython3",
   "version": "3.11.6"
  }
 },
 "nbformat": 4,
 "nbformat_minor": 2
}
